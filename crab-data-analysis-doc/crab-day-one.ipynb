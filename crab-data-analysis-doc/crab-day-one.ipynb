{
 "cells": [
  {
   "cell_type": "markdown",
   "id": "e5e179b2",
   "metadata": {},
   "source": [
    "### Permissions"
   ]
  },
  {
   "cell_type": "markdown",
   "id": "cddfe918",
   "metadata": {},
   "source": [
    "1. Hadoop Cluster Access\n",
    "    * To do data analysis and be connected to the Hadoop cluster, you need to gain the Hadoop cluster access fisrt via the [CERN Service Portal](https://cern.service-now.com/service-portal?id=service_element&name=Hadoop-Service)\n",
    "    * [Getting started with Hadoop](https://hadoop-user-guide.web.cern.ch/gettingstarted_md.html)\n",
    "    * [Using SPARK on Hadoop](https://hadoop-user-guide.web.cern.ch/spark/Using_Spark_on_Hadoop.html)\n",
    "2. Office Key Request\n",
    "    * It is also important that you have your own key to the office. Request the key [here](https://cern.service-now.com/service-portal?id=service_element&name=locks-keys-app-support)\n",
    "3. Bike Rental\n",
    "    * Rent a bike [here](https://cern.service-now.com/service-portal?id=service_element&name=bicycle-rental)"
   ]
  },
  {
   "cell_type": "markdown",
   "id": "5b7455e3",
   "metadata": {},
   "source": [
    "### SWAN"
   ]
  },
  {
   "cell_type": "markdown",
   "id": "a73f25c8",
   "metadata": {},
   "source": [
    "### Run PySpark Job"
   ]
  },
  {
   "cell_type": "markdown",
   "id": "f18827f3",
   "metadata": {},
   "source": [
    "Pre-requisites:\n",
    "1. *CERNBox*: Request [here](https://cern.service-now.com/service-portal?id=service_element&name=CERNBox-Service)\n",
    "2. *Hadoop Cluster Access*: Request [here](https://cern.service-now.com/service-portal?id=service_element&name=Hadoop-Service)"
   ]
  },
  {
   "cell_type": "markdown",
   "id": "f04f9214",
   "metadata": {},
   "source": [
    "How-to:\n",
    "1. Log in to SWAN directly from the [SWAN page](https://swan-k8s.cern.ch) or log in to your CERNBox then open SWAN Notebook from there.\n",
    "2. Create a new project and a new file.\n",
    "3. On the top panel, look for a *Star* button. It will appear there only if you already have the Hadoop cluster access. Configure needed library then click *connect*.\n"
   ]
  },
  {
   "cell_type": "markdown",
   "id": "1db1f086",
   "metadata": {},
   "source": [
    "\n",
    "![Star Button](/crab-data-analysis-doc/src/img/star.png)\n",
    "\n",
    "![Connect](/crab-data-analysis-doc/src/img/connect.png)\n"
   ]
  },
  {
   "cell_type": "markdown",
   "id": "846f67b3",
   "metadata": {},
   "source": [
    "### LXPlus and HDFS Commands"
   ]
  },
  {
   "cell_type": "markdown",
   "id": "8b8ed4e2",
   "metadata": {},
   "source": [
    "1. Connect to LXPlus using SSH  "
   ]
  },
  {
   "cell_type": "code",
   "execution_count": null,
   "id": "845c7531",
   "metadata": {},
   "outputs": [],
   "source": [
    "ssh [username]@lxplus7.cern.ch"
   ]
  },
  {
   "cell_type": "markdown",
   "id": "7620c7d7",
   "metadata": {},
   "source": [
    "2. configure as indicated in [here](https://hadoop-user-guide.web.cern.ch/getstart/client_cvmfs.html)"
   ]
  },
  {
   "cell_type": "code",
   "execution_count": null,
   "id": "8d0729f8",
   "metadata": {},
   "outputs": [],
   "source": [
    "#first time setup\n",
    "source /cvmfs/sft.cern.ch/lcg/views/LCG_99/x86_64-centos7-gcc8-opt/setup.sh\n",
    "#if use spark\n",
    "source /cvmfs/sft.cern.ch/lcg/etc/hadoop-confext/hadoop-swan-setconf.sh analytix 3.2 spark3"
   ]
  },
  {
   "cell_type": "code",
   "execution_count": null,
   "id": "2cad592a",
   "metadata": {},
   "outputs": [],
   "source": [
    "kinit"
   ]
  },
  {
   "cell_type": "markdown",
   "id": "94d182fd",
   "metadata": {},
   "source": [
    "3. Explore the HDFS by looking up the path. [More Path](https://cmsmonit-docs.web.cern.ch/MONIT/sources/)"
   ]
  },
  {
   "cell_type": "code",
   "execution_count": null,
   "id": "5f27fe3d",
   "metadata": {},
   "outputs": [],
   "source": []
  },
  {
   "cell_type": "markdown",
   "id": "dd85de82",
   "metadata": {},
   "source": []
  }
 ],
 "metadata": {
  "kernelspec": {
   "display_name": "Python 3.8.9 64-bit",
   "language": "python",
   "name": "python3"
  },
  "language_info": {
   "codemirror_mode": {
    "name": "ipython",
    "version": 3
   },
   "file_extension": ".py",
   "mimetype": "text/x-python",
   "name": "python",
   "nbconvert_exporter": "python",
   "pygments_lexer": "ipython3",
   "version": "3.8.9"
  },
  "vscode": {
   "interpreter": {
    "hash": "31f2aee4e71d21fbe5cf8b01ff0e069b9275f58929596ceb00d14d90e3e16cd6"
   }
  }
 },
 "nbformat": 4,
 "nbformat_minor": 5
}
