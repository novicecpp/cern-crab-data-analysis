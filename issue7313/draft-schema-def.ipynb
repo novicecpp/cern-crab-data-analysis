{
 "cells": [
  {
   "cell_type": "markdown",
   "id": "c6704ec1",
   "metadata": {},
   "source": [
    "Github Issue: \n",
    "This notebook defines the schema and the usage/ manipulation of each column of the datasource to be stored in the database. Aim for minimum schema to answer the following questions:\n",
    "- cpueff/walltime/failure rate of jobs BY input data tier/site/mc production/offsite vs onsite"
   ]
  },
  {
   "cell_type": "markdown",
   "id": "23f4f49a",
   "metadata": {},
   "source": [
    "## schema"
   ]
  },
  {
   "cell_type": "code",
   "execution_count": null,
   "id": "3f236bd7",
   "metadata": {},
   "outputs": [],
   "source": [
    "#Possible (minimum) schema for the first datasource:\n",
    "def _get_schema():\n",
    "    return StructType(\n",
    "        [\n",
    "            StructField(\n",
    "                \"data\",\n",
    "                StructType(\n",
    "                    [\n",
    "                        StructField(\"RecordTime\", LongType(), nullable=False), #Could store as YYYY:MM:DD or HH YYYY:MM:DD\n",
    "                        StructField(\"CMSSite\", StringType(), nullable=True),\n",
    "                        StructField(\"InputData\", StringType(), nullable=True), #['Onsite', 'Offsite']\n",
    "                        StructField(\"Chirp_CRAB3_Job_ExitCode\", LongType(), nullable=True), #Not manipulated yet\n",
    "                        StructField(\"CMSPrimaryDataTier\", StringType(), nullable=True),\n",
    "                        StructField(\"Status\", StringType(), nullable=True), #Only includes ['Removed','Completed','Held','Error']\n",
    "                        StructField(\"OverflowType\", StringType(), nullable=True),\n",
    "                        StructField(\"WallClockHr\", DoubleType(), nullable=True),\n",
    "                        StructField(\"CpuTimeHr\", DoubleType(), nullable=True),\n",
    "                        StructField(\"RequestCpus\", LongType(), nullable=True),\n",
    "                        StructField(\"Type\", StringType(), nullable=True),\n",
    "                        StructField(\"CRAB_DataBlock\", StringType(), nullable=True), #For identifying MC Prod\n",
    "                    ]\n",
    "                ),\n",
    "            ),\n",
    "        ]\n",
    "    )"
   ]
  },
  {
   "cell_type": "markdown",
   "id": "12afadf3",
   "metadata": {},
   "source": [
    "## definitions of the content"
   ]
  },
  {
   "cell_type": "code",
   "execution_count": null,
   "id": "02757504",
   "metadata": {},
   "outputs": [],
   "source": [
    "def _cal_avg_cpu_eff(CpuTimeHr,WallClockHr,RequestCpus):\n",
    "    return (100*CpuTimeHr)/(WallClockHr*RequestCpus)\n",
    "\n",
    "#note - WallClockHr*RequestCpus = CoreHr\n",
    "#referenced - https://github.com/dmwm/cms-htcondor-es/blob/7fdcb7667b39081ddff98da26ad4e3ed33f9e244/src/htcondor_es/convert_to_json.py#L838"
   ]
  },
  {
   "cell_type": "code",
   "execution_count": null,
   "id": "06e48e9e",
   "metadata": {},
   "outputs": [],
   "source": [
    "def _manipulate_chirp_crab3_exitcode(Chirp_CRAB3_Job_ExitCode):\n",
    "    if(Chirp_CRAB3_Job_ExitCode==0):\n",
    "        return ('Success')\n",
    "    else if (Chirp_CRAB3_Job_ExitCode!=0 && Chirp_CRAB3_Job_ExitCode.isNotNull()):\n",
    "        return ('Fail')\n",
    "    else:\n",
    "        #when Chirp_CRAB3_Job_ExitCode.isNull()\n",
    "        return ('Not Analysis Job')\n",
    "#note - Chirp_CRAB3_Job_ExitCode might not cover the case where jobs get cancelled bc of user's mistake\n",
    "#note - Should discuss Chirp_CRAB3_Job_ExitCode vs ExitCode"
   ]
  },
  {
   "cell_type": "code",
   "execution_count": null,
   "id": "a31ccbd3",
   "metadata": {},
   "outputs": [],
   "source": [
    "def _is_mc_prod_job(CRAB_DataBlock, Type):\n",
    "    if(CRAB_DataBlock=='MCFakeBlock' && Type=='analysis'):\n",
    "        return True\n",
    "    else:\n",
    "        return False"
   ]
  }
 ],
 "metadata": {
  "kernelspec": {
   "display_name": "Python 3.8.9 64-bit",
   "language": "python",
   "name": "python3"
  },
  "language_info": {
   "codemirror_mode": {
    "name": "ipython",
    "version": 3
   },
   "file_extension": ".py",
   "mimetype": "text/x-python",
   "name": "python",
   "nbconvert_exporter": "python",
   "pygments_lexer": "ipython3",
   "version": "3.8.9"
  },
  "vscode": {
   "interpreter": {
    "hash": "31f2aee4e71d21fbe5cf8b01ff0e069b9275f58929596ceb00d14d90e3e16cd6"
   }
  }
 },
 "nbformat": 4,
 "nbformat_minor": 5
}
