{
 "cells": [
  {
   "cell_type": "markdown",
   "id": "38cd9fb8",
   "metadata": {},
   "source": [
    "This Notebook show plots and queries of the following tasks:\n",
    "- Task1 - sum of walltime per datatier\n",
    "- Task2 - avg cpu efficiency per read mode (onsite vs offsite)\n",
    "- Task3 - sum of walltime analysis vs production\n",
    "- Task4 - sum of walltime mc production vs analysis\n",
    "- Task5 - overall analysis success rate\n",
    "\n",
    "Note: The raw data is filtered to drop_duplicates([\"GlobalJobId\"]) and Status IN ('Completed', 'Removed', 'Held', 'Error') of the date May 1st"
   ]
  },
  {
   "cell_type": "code",
   "execution_count": 2,
   "id": "fed704f1",
   "metadata": {},
   "outputs": [],
   "source": [
    "import time\n",
    "from datetime import datetime, date, timedelta\n",
    "\n",
    "import click\n",
    "import numpy as np\n",
    "import pandas as pd\n",
    "from pyspark import SparkContext\n",
    "from pyspark.sql import SparkSession\n",
    "from pyspark.sql.functions import (\n",
    "    col,\n",
    "    lit,\n",
    "    when,\n",
    "    sum as _sum,\n",
    "    first,\n",
    ")\n",
    "from pyspark.sql.types import (\n",
    "    StructType,\n",
    "    LongType,\n",
    "    StringType,\n",
    "    StructField,\n",
    "    DoubleType,\n",
    "    IntegerType,\n",
    ")\n",
    "pd.set_option('display.max_columns', None)\n",
    "pd.set_option('display.max_rows', None)\n",
    "pd.set_option('display.max_colwidth', None)"
   ]
  },
  {
   "cell_type": "code",
   "execution_count": 3,
   "id": "4cadec80",
   "metadata": {},
   "outputs": [],
   "source": [
    "_DEFAULT_HDFS_FOLDER = \"/project/monitoring/archive/condor/raw/metric\""
   ]
  },
  {
   "cell_type": "code",
   "execution_count": 54,
   "id": "42f1b63b",
   "metadata": {},
   "outputs": [],
   "source": [
    "def _get_schema():\n",
    "    return StructType(\n",
    "        [\n",
    "            StructField(\n",
    "                \"data\",\n",
    "                StructType(\n",
    "                    [\n",
    "                        StructField(\"CMSSite\", StringType(), nullable=True),\n",
    "                        StructField(\"RecordTime\", LongType(), nullable=False),\n",
    "                        StructField(\"InputData\", StringType(), nullable=True),\n",
    "                        StructField(\"Chirp_CRAB3_Job_ExitCode\", LongType(), nullable=True),\n",
    "                        StructField(\"CMSPrimaryDataTier\", StringType(), nullable=True),\n",
    "                        StructField(\"Status\", StringType(), nullable=True),\n",
    "                        StructField(\"OverflowType\", StringType(), nullable=True),\n",
    "                        StructField(\"WallClockHr\", DoubleType(), nullable=True),\n",
    "                        StructField(\"CpuTimeHr\", DoubleType(), nullable=True),\n",
    "                        StructField(\"RequestCpus\", LongType(), nullable=True),\n",
    "                        StructField(\"Type\", StringType(), nullable=True),\n",
    "                        StructField(\"CRAB_DataBlock\", StringType(), nullable=True),\n",
    "                        StructField(\"ExitCode\", IntegerType(), nullable=True),\n",
    "                        StructField(\"WMAgent_SubTaskName\", StringType(), nullable=True),\n",
    "                        StructField(\"CMS_JobType\", StringType(), nullable=True),\n",
    "                        StructField(\"CondorExitCode\", IntegerType(), nullable=True),\n",
    "                        StructField(\"ExitStatus\", StringType(), nullable=True),\n",
    "                        StructField(\"GLIDEIN_CMSSite\", StringType(), nullable=True),\n",
    "                        StructField(\"GlobalJobId\", StringType(), nullable=False),\n",
    "                        StructField(\"Workflow\", StringType(), nullable=False),\n",
    "                        StructField(\"WMAgent_RequestName\", StringType(), nullable=True),\n",
    "                        StructField(\"ScheddName\", StringType(), nullable=True),\n",
    "                        StructField(\"WMAgent_JobID\", StringType(), nullable=True),\n",
    "                        StructField(\"JobFailed\", LongType(), nullable=False)\n",
    "                    ]\n",
    "                ),\n",
    "            ),\n",
    "        ]\n",
    "    )\n",
    "def get_candidate_files(\n",
    "    start_date, end_date, spark, base=_DEFAULT_HDFS_FOLDER,\n",
    "):\n",
    "    \"\"\"\n",
    "    Returns a list of hdfs folders that can contain data for the given dates.\n",
    "    \"\"\"\n",
    "    st_date = start_date - timedelta(days=3)\n",
    "    ed_date = end_date + timedelta(days=3)\n",
    "    days = (ed_date - st_date).days\n",
    "    #what is pre_candidate_files for????\n",
    "    pre_candidate_files = [\n",
    "        \"{base}/{day}{{,.tmp}}\".format(\n",
    "            base=base, day=(st_date + timedelta(days=i)).strftime(\"%Y/%m/%d\")\n",
    "        )\n",
    "        for i in range(0, days)\n",
    "    ]\n",
    "    sc = spark.sparkContext\n",
    "    # The candidate files are the folders to the specific dates,\n",
    "    # but if we are looking at recent days the compaction procedure could\n",
    "    # have not run yet so we will considerate also the .tmp folders.\n",
    "    candidate_files = [\n",
    "        f\"{base}/{(st_date + timedelta(days=i)).strftime('%Y/%m/%d')}\"\n",
    "        for i in range(0, days)\n",
    "    ]\n",
    "    FileSystem = sc._gateway.jvm.org.apache.hadoop.fs.FileSystem\n",
    "    URI = sc._gateway.jvm.java.net.URI\n",
    "    Path = sc._gateway.jvm.org.apache.hadoop.fs.Path\n",
    "    fs = FileSystem.get(URI(\"hdfs:///\"), sc._jsc.hadoopConfiguration())\n",
    "    candidate_files = [url for url in candidate_files if fs.globStatus(Path(url))]\n",
    "    return candidate_files\n"
   ]
  },
  {
   "cell_type": "code",
   "execution_count": 55,
   "id": "f12c478d",
   "metadata": {},
   "outputs": [],
   "source": [
    "schema = _get_schema()\n",
    "start_date = datetime(2022, 5, 1)\n",
    "end_date = datetime(2022, 5, 2)"
   ]
  },
  {
   "cell_type": "code",
   "execution_count": 56,
   "id": "fc550333",
   "metadata": {},
   "outputs": [
    {
     "data": {
      "text/plain": [
       "['/project/monitoring/archive/condor/raw/metric/2022/04/28',\n",
       " '/project/monitoring/archive/condor/raw/metric/2022/04/29',\n",
       " '/project/monitoring/archive/condor/raw/metric/2022/04/30',\n",
       " '/project/monitoring/archive/condor/raw/metric/2022/05/01',\n",
       " '/project/monitoring/archive/condor/raw/metric/2022/05/02',\n",
       " '/project/monitoring/archive/condor/raw/metric/2022/05/03',\n",
       " '/project/monitoring/archive/condor/raw/metric/2022/05/04']"
      ]
     },
     "execution_count": 56,
     "metadata": {},
     "output_type": "execute_result"
    }
   ],
   "source": [
    "get_candidate_files(start_date, end_date, spark, base=_DEFAULT_HDFS_FOLDER)"
   ]
  },
  {
   "cell_type": "code",
   "execution_count": 57,
   "id": "a2aa123b",
   "metadata": {},
   "outputs": [],
   "source": [
    "raw_df = (\n",
    "        spark.read.option(\"basePath\", _DEFAULT_HDFS_FOLDER)\n",
    "        .json(\n",
    "            get_candidate_files(start_date, end_date, spark, base=_DEFAULT_HDFS_FOLDER),\n",
    "            schema=schema,\n",
    "        ).select(\"data.*\")\n",
    "        .filter(\n",
    "            f\"\"\"Status IN ('Completed', 'Removed', 'Held', 'Error') \n",
    "          AND RecordTime >= {start_date.timestamp() * 1000}\n",
    "          AND RecordTime < {end_date.timestamp() * 1000}\n",
    "          \"\"\"\n",
    "        )\n",
    "        .drop_duplicates([\"GlobalJobId\"])\n",
    "    )\n",
    "\n",
    "spark.conf.set(\"spark.sql.session.timeZone\", \"UTC\")"
   ]
  },
  {
   "cell_type": "code",
   "execution_count": 58,
   "id": "45feadd6",
   "metadata": {},
   "outputs": [
    {
     "name": "stdout",
     "output_type": "stream",
     "text": [
      "root\n",
      " |-- CMSSite: string (nullable = true)\n",
      " |-- RecordTime: long (nullable = true)\n",
      " |-- InputData: string (nullable = true)\n",
      " |-- Chirp_CRAB3_Job_ExitCode: long (nullable = true)\n",
      " |-- CMSPrimaryDataTier: string (nullable = true)\n",
      " |-- Status: string (nullable = true)\n",
      " |-- OverflowType: string (nullable = true)\n",
      " |-- WallClockHr: double (nullable = true)\n",
      " |-- CpuTimeHr: double (nullable = true)\n",
      " |-- RequestCpus: long (nullable = true)\n",
      " |-- Type: string (nullable = true)\n",
      " |-- CRAB_DataBlock: string (nullable = true)\n",
      " |-- ExitCode: integer (nullable = true)\n",
      " |-- WMAgent_SubTaskName: string (nullable = true)\n",
      " |-- CMS_JobType: string (nullable = true)\n",
      " |-- CondorExitCode: integer (nullable = true)\n",
      " |-- ExitStatus: string (nullable = true)\n",
      " |-- GLIDEIN_CMSSite: string (nullable = true)\n",
      " |-- GlobalJobId: string (nullable = true)\n",
      " |-- Workflow: string (nullable = true)\n",
      " |-- WMAgent_RequestName: string (nullable = true)\n",
      " |-- ScheddName: string (nullable = true)\n",
      " |-- WMAgent_JobID: string (nullable = true)\n",
      " |-- JobFailed: long (nullable = true)\n",
      "\n"
     ]
    }
   ],
   "source": [
    "raw_df.printSchema()"
   ]
  },
  {
   "cell_type": "code",
   "execution_count": 28,
   "id": "d8e28868",
   "metadata": {},
   "outputs": [
    {
     "data": {
      "text/html": [
       "<div>\n",
       "<style scoped>\n",
       "    .dataframe tbody tr th:only-of-type {\n",
       "        vertical-align: middle;\n",
       "    }\n",
       "\n",
       "    .dataframe tbody tr th {\n",
       "        vertical-align: top;\n",
       "    }\n",
       "\n",
       "    .dataframe thead th {\n",
       "        text-align: right;\n",
       "    }\n",
       "</style>\n",
       "<table border=\"1\" class=\"dataframe\">\n",
       "  <thead>\n",
       "    <tr style=\"text-align: right;\">\n",
       "      <th></th>\n",
       "      <th>CMSPrimaryDataTier</th>\n",
       "      <th>Sum_WallClockHr</th>\n",
       "    </tr>\n",
       "  </thead>\n",
       "  <tbody>\n",
       "    <tr>\n",
       "      <th>0</th>\n",
       "      <td>RAW-RECO</td>\n",
       "      <td>3000.083</td>\n",
       "    </tr>\n",
       "    <tr>\n",
       "      <th>1</th>\n",
       "      <td>GEN-SIM</td>\n",
       "      <td>81844.593</td>\n",
       "    </tr>\n",
       "    <tr>\n",
       "      <th>2</th>\n",
       "      <td>AODSIM</td>\n",
       "      <td>102975.764</td>\n",
       "    </tr>\n",
       "    <tr>\n",
       "      <th>3</th>\n",
       "      <td>GEN-SIM-DIGI-RAW</td>\n",
       "      <td>19012.429</td>\n",
       "    </tr>\n",
       "    <tr>\n",
       "      <th>4</th>\n",
       "      <td>USER</td>\n",
       "      <td>154278.055</td>\n",
       "    </tr>\n",
       "    <tr>\n",
       "      <th>5</th>\n",
       "      <td>GEN-SIM-DIGI-RAW-MINIAOD</td>\n",
       "      <td>1714.685</td>\n",
       "    </tr>\n",
       "    <tr>\n",
       "      <th>6</th>\n",
       "      <td>LHE</td>\n",
       "      <td>2502.857</td>\n",
       "    </tr>\n",
       "    <tr>\n",
       "      <th>7</th>\n",
       "      <td>GEN-SIM-RAW</td>\n",
       "      <td>4089.799</td>\n",
       "    </tr>\n",
       "    <tr>\n",
       "      <th>8</th>\n",
       "      <td>NANOAODSIM</td>\n",
       "      <td>2656.410</td>\n",
       "    </tr>\n",
       "    <tr>\n",
       "      <th>9</th>\n",
       "      <td>MINIAOD</td>\n",
       "      <td>771810.359</td>\n",
       "    </tr>\n",
       "    <tr>\n",
       "      <th>10</th>\n",
       "      <td>Unknown</td>\n",
       "      <td>2180831.161</td>\n",
       "    </tr>\n",
       "    <tr>\n",
       "      <th>11</th>\n",
       "      <td>FEVT</td>\n",
       "      <td>4942.470</td>\n",
       "    </tr>\n",
       "    <tr>\n",
       "      <th>12</th>\n",
       "      <td>RAW</td>\n",
       "      <td>70435.176</td>\n",
       "    </tr>\n",
       "    <tr>\n",
       "      <th>13</th>\n",
       "      <td>ALCARECO</td>\n",
       "      <td>8770.557</td>\n",
       "    </tr>\n",
       "    <tr>\n",
       "      <th>14</th>\n",
       "      <td>AOD</td>\n",
       "      <td>207111.216</td>\n",
       "    </tr>\n",
       "    <tr>\n",
       "      <th>15</th>\n",
       "      <td>RECO</td>\n",
       "      <td>665.339</td>\n",
       "    </tr>\n",
       "    <tr>\n",
       "      <th>16</th>\n",
       "      <td>MINIAODSIM</td>\n",
       "      <td>792313.647</td>\n",
       "    </tr>\n",
       "    <tr>\n",
       "      <th>17</th>\n",
       "      <td>GEN-SIM-DIGI-RAW-HLTDEBUG</td>\n",
       "      <td>35.976</td>\n",
       "    </tr>\n",
       "    <tr>\n",
       "      <th>18</th>\n",
       "      <td>GEN-SIM-RECO</td>\n",
       "      <td>1934.047</td>\n",
       "    </tr>\n",
       "  </tbody>\n",
       "</table>\n",
       "</div>"
      ],
      "text/plain": [
       "           CMSPrimaryDataTier  Sum_WallClockHr\n",
       "0                    RAW-RECO         3000.083\n",
       "1                     GEN-SIM        81844.593\n",
       "2                      AODSIM       102975.764\n",
       "3            GEN-SIM-DIGI-RAW        19012.429\n",
       "4                        USER       154278.055\n",
       "5    GEN-SIM-DIGI-RAW-MINIAOD         1714.685\n",
       "6                         LHE         2502.857\n",
       "7                 GEN-SIM-RAW         4089.799\n",
       "8                  NANOAODSIM         2656.410\n",
       "9                     MINIAOD       771810.359\n",
       "10                    Unknown      2180831.161\n",
       "11                       FEVT         4942.470\n",
       "12                        RAW        70435.176\n",
       "13                   ALCARECO         8770.557\n",
       "14                        AOD       207111.216\n",
       "15                       RECO          665.339\n",
       "16                 MINIAODSIM       792313.647\n",
       "17  GEN-SIM-DIGI-RAW-HLTDEBUG           35.976\n",
       "18               GEN-SIM-RECO         1934.047"
      ]
     },
     "execution_count": 28,
     "metadata": {},
     "output_type": "execute_result"
    }
   ],
   "source": [
    "df1 = raw_df.groupby([col(\"CMSPrimaryDataTier\")]).agg(_sum(\"WallClockHr\").alias(\"Sum_WallClockHr\"))\n",
    "pd.set_option('display.float_format', lambda x: '%.3f' % x)\n"
   ]
  },
  {
   "cell_type": "markdown",
   "id": "5eb08a13",
   "metadata": {},
   "source": [
    "# TASK 1"
   ]
  },
  {
   "cell_type": "code",
   "execution_count": 32,
   "id": "fade09ad",
   "metadata": {},
   "outputs": [],
   "source": [
    "df1 = df1.toPandas()"
   ]
  },
  {
   "cell_type": "code",
   "execution_count": 42,
   "id": "6667459a",
   "metadata": {},
   "outputs": [],
   "source": [
    "import matplotlib.pyplot as plt\n",
    "from matplotlib import cm\n",
    "\n",
    "sumWallClockHr = df1.Sum_WallClockHr.values.tolist()\n",
    "dataTier = df1.CMSPrimaryDataTier.values.tolist()\n",
    "\n",
    "sumWc = sum(sumWallClockHr)\n",
    "data = []\n",
    "legends = []\n",
    "others = 0\n",
    "otherTiers = []\n",
    "\n",
    "for i in range(len(sumWallClockHr)):\n",
    "    percent = sumWallClockHr[i]*100/sumWc\n",
    "    if(percent<1):\n",
    "        others+=percent\n",
    "        otherTiers.append(dataTier[i]+\": %.3f\"%percent+\"%\")\n",
    "    else:\n",
    "        data.append(percent)\n",
    "        legends.append(dataTier[i])\n",
    "data.append(others)\n",
    "legends.append(\"Others\")"
   ]
  },
  {
   "cell_type": "code",
   "execution_count": 67,
   "id": "5478f832",
   "metadata": {},
   "outputs": [
    {
     "data": {
      "image/png": "[encoded data removed]",
      "text/plain": [
       "<Figure size 864x864 with 1 Axes>"
      ]
     },
     "metadata": {},
     "output_type": "display_data"
    },
    {
     "name": "stdout",
     "output_type": "stream",
     "text": [
      "RAW-RECO: 0.068%\n",
      "GEN-SIM-DIGI-RAW: 0.431%\n",
      "GEN-SIM-DIGI-RAW-MINIAOD: 0.039%\n",
      "LHE: 0.057%\n",
      "GEN-SIM-RAW: 0.093%\n",
      "NANOAODSIM: 0.060%\n",
      "FEVT: 0.112%\n",
      "ALCARECO: 0.199%\n",
      "RECO: 0.015%\n",
      "GEN-SIM-DIGI-RAW-HLTDEBUG: 0.001%\n",
      "GEN-SIM-RECO: 0.044%\n"
     ]
    }
   ],
   "source": [
    "plt.rcParams[\"figure.figsize\"] = (12,12)\n",
    "fig1, ax1 = plt.subplots()\n",
    "figure_title = 'WallClockHr by DataTier'\n",
    "plt.title(figure_title, y=1.08, fontsize=20)\n",
    "ax1.pie(data, labels=legends, autopct='%1.1f%%',\n",
    "        shadow=False, startangle=90)\n",
    "ax1.axis('equal') \n",
    "# plt.savefig('final-wc-datatier.png')\n",
    "plt.show()\n",
    "print(*otherTiers, sep = \"\\n\")"
   ]
  },
  {
   "cell_type": "markdown",
   "id": "20cdfe33",
   "metadata": {},
   "source": [
    "# TASK 2"
   ]
  },
  {
   "cell_type": "code",
   "execution_count": 62,
   "id": "10676ae9",
   "metadata": {},
   "outputs": [],
   "source": [
    "df2 = raw_df.filter(col('Type').isin(['production', 'analysis'])).groupby([col('Type')]).agg(_sum(\"WallClockHr\").alias(\"Sum_WallClockHr\"))\n"
   ]
  },
  {
   "cell_type": "code",
   "execution_count": 63,
   "id": "1ef9161f",
   "metadata": {},
   "outputs": [],
   "source": [
    "df2 = df2.toPandas()"
   ]
  },
  {
   "cell_type": "code",
   "execution_count": 64,
   "id": "2312611e",
   "metadata": {},
   "outputs": [
    {
     "data": {
      "text/html": [
       "<div>\n",
       "<style scoped>\n",
       "    .dataframe tbody tr th:only-of-type {\n",
       "        vertical-align: middle;\n",
       "    }\n",
       "\n",
       "    .dataframe tbody tr th {\n",
       "        vertical-align: top;\n",
       "    }\n",
       "\n",
       "    .dataframe thead th {\n",
       "        text-align: right;\n",
       "    }\n",
       "</style>\n",
       "<table border=\"1\" class=\"dataframe\">\n",
       "  <thead>\n",
       "    <tr style=\"text-align: right;\">\n",
       "      <th></th>\n",
       "      <th>Type</th>\n",
       "      <th>Sum_WallClockHr</th>\n",
       "    </tr>\n",
       "  </thead>\n",
       "  <tbody>\n",
       "    <tr>\n",
       "      <th>0</th>\n",
       "      <td>production</td>\n",
       "      <td>1730748.252</td>\n",
       "    </tr>\n",
       "    <tr>\n",
       "      <th>1</th>\n",
       "      <td>analysis</td>\n",
       "      <td>2642540.557</td>\n",
       "    </tr>\n",
       "  </tbody>\n",
       "</table>\n",
       "</div>"
      ],
      "text/plain": [
       "         Type  Sum_WallClockHr\n",
       "0  production      1730748.252\n",
       "1    analysis      2642540.557"
      ]
     },
     "execution_count": 64,
     "metadata": {},
     "output_type": "execute_result"
    }
   ],
   "source": [
    "df2"
   ]
  },
  {
   "cell_type": "code",
   "execution_count": 75,
   "id": "0fc63d58",
   "metadata": {},
   "outputs": [
    {
     "data": {
      "image/png": "[encoded data removed]",
      "text/plain": [
       "<Figure size 864x864 with 1 Axes>"
      ]
     },
     "metadata": {},
     "output_type": "display_data"
    }
   ],
   "source": [
    "sumWallClockHr2 = df2.Sum_WallClockHr.values.tolist()\n",
    "dataType = df2.Type.values.tolist()\n",
    "plt.rcParams[\"figure.figsize\"] = (12,12)\n",
    "fig2, ax2 = plt.subplots()\n",
    "figure_title = 'WallClockHr Production vs Analysis'\n",
    "plt.title(figure_title, y=1, fontsize=20)\n",
    "ax2.pie(sumWallClockHr2, labels=dataType, autopct='%1.1f%%',\n",
    "        shadow=False, startangle=90)\n",
    "ax2.axis('equal') \n",
    "\n",
    "ax2.text(-2, 1,   \"Consider only Status:\\n'Completed',\\n'Removed',\\n'Held',\\n'Error'\", fontsize=15)\n",
    "# plt.savefig('final-wc-prod-analysis.png')\n",
    "plt.show()"
   ]
  },
  {
   "cell_type": "markdown",
   "id": "cae995c8",
   "metadata": {},
   "source": [
    "# TASK 3"
   ]
  },
  {
   "cell_type": "code",
   "execution_count": 63,
   "id": "06811aed",
   "metadata": {},
   "outputs": [],
   "source": [
    "#sum wallclock analysis vs mc production -> mc is analysis w/o input data \n",
    "df3 = raw_df.filter(col('Type')=='analysis')\\\n",
    "            .withColumn('isMcprod', when(col('CRAB_DataBlock')=='MCFakeBlock', 'mc').otherwise('notMc'))\\\n",
    "            .groupby([col('isMcprod')])\\\n",
    "            .agg(_sum(\"WallClockHr\").alias(\"Sum_WallClockHr\"))\n"
   ]
  },
  {
   "cell_type": "code",
   "execution_count": 64,
   "id": "9ca5ce60",
   "metadata": {},
   "outputs": [
    {
     "name": "stdout",
     "output_type": "stream",
     "text": [
      "+--------+------------------+\n",
      "|isMcprod|   Sum_WallClockHr|\n",
      "+--------+------------------+\n",
      "|   notMc|2250814.3538888884|\n",
      "|      mc|391733.17500000005|\n",
      "+--------+------------------+\n",
      "\n"
     ]
    }
   ],
   "source": [
    "df3.show()"
   ]
  },
  {
   "cell_type": "code",
   "execution_count": 65,
   "id": "c6e730da",
   "metadata": {},
   "outputs": [],
   "source": [
    "df3 = df3.toPandas()"
   ]
  },
  {
   "cell_type": "code",
   "execution_count": 67,
   "id": "6c2424b3",
   "metadata": {},
   "outputs": [
    {
     "data": {
      "image/png": "[encoded data removed]",
      "text/plain": [
       "<Figure size 864x864 with 1 Axes>"
      ]
     },
     "metadata": {},
     "output_type": "display_data"
    }
   ],
   "source": [
    "sumWallClockHr3 = df3.Sum_WallClockHr.values.tolist()\n",
    "isMcProd = df3.isMcprod.values.tolist()\n",
    "plt.rcParams[\"figure.figsize\"] = (12,12)\n",
    "fig2, ax2 = plt.subplots()\n",
    "figure_title = 'WallClockHr MC Production vs Analysis'\n",
    "plt.title(figure_title, y=1, fontsize=20)\n",
    "ax2.pie(sumWallClockHr3, labels=isMcProd, autopct='%1.1f%%',\n",
    "        shadow=False, startangle=90)\n",
    "ax2.axis('equal') \n",
    "\n",
    "ax2.text(-2, 1,   \"Consider only Status:\\n'Completed',\\n'Removed',\\n'Held',\\n'Error'\", fontsize=15)\n",
    "plt.savefig('final-wc-mc-prod-analysis.png')\n",
    "plt.show()"
   ]
  },
  {
   "cell_type": "markdown",
   "id": "7afaeef7",
   "metadata": {},
   "source": [
    "# TASK 4"
   ]
  },
  {
   "cell_type": "code",
   "execution_count": 91,
   "id": "f365345d",
   "metadata": {},
   "outputs": [],
   "source": [
    "\n",
    "from pyspark.sql.functions import from_unixtime, when, col\n",
    "from pyspark.sql.types import *\n",
    "from pyspark.sql.functions import date_format\n",
    "\n",
    "import pandas as pd\n",
    "# raw_df.withColumn('TimeStamp', date_format(from_unixtime(col(\"RecordTime\")/1000), \"y:M:d\")).limit(20).show()"
   ]
  },
  {
   "cell_type": "code",
   "execution_count": 78,
   "id": "ed3d4b71",
   "metadata": {},
   "outputs": [
    {
     "name": "stdout",
     "output_type": "stream",
     "text": [
      "+-------------+\n",
      "|   RecordTime|\n",
      "+-------------+\n",
      "|1651386242000|\n",
      "|1651386242000|\n",
      "|1651412162000|\n",
      "|1651412162000|\n",
      "|1651412162000|\n",
      "|1651411922000|\n",
      "|1651415761000|\n",
      "|1651415761000|\n",
      "|1651415761000|\n",
      "|1651412162000|\n",
      "|1651384801000|\n",
      "|1651384801000|\n",
      "|1651384801000|\n",
      "|1651422991000|\n",
      "|1651398481000|\n",
      "|1651400642000|\n",
      "|1651372510000|\n",
      "|1651372551000|\n",
      "|1651402081000|\n",
      "|1651366081000|\n",
      "+-------------+\n",
      "\n"
     ]
    }
   ],
   "source": [
    "raw_df.select(col(\"RecordTime\")).limit(20).show()"
   ]
  },
  {
   "cell_type": "code",
   "execution_count": 20,
   "id": "f9a81f77",
   "metadata": {},
   "outputs": [],
   "source": [
    "#avg cpu eff → read mode (onsite vs offsite)\n",
    "raw_df.createOrReplaceTempView(\"day\")\n",
    "df4 = spark.sql('SELECT     DATE_FORMAT(FROM_UNIXTIME(day.RecordTime/1000), \"HH\") AS timestamp,\\\n",
    "                            day.InputData AS inputData, \\\n",
    "                            SUM(day.CpuTimeHr) AS sumWallclockHr, \\\n",
    "                            SUM(day.WallClockHr*day.RequestCpus) as sumCoreHr, \\\n",
    "                            SUM(day.CpuTimeHr)/SUM(day.WallClockHr*day.RequestCpus) AS avgCpuEff \\\n",
    "                    FROM day \\\n",
    "                    GROUP BY DATE_FORMAT(FROM_UNIXTIME(day.RecordTime/1000), \"HH\"), inputData\\\n",
    "                    ORDER BY DATE_FORMAT(FROM_UNIXTIME(day.RecordTime/1000), \"HH\")')\n",
    "\n",
    "\n"
   ]
  },
  {
   "cell_type": "code",
   "execution_count": 21,
   "id": "a442192a",
   "metadata": {},
   "outputs": [
    {
     "name": "stdout",
     "output_type": "stream",
     "text": [
      "+---------+---------+------------------+------------------+------------------+\n",
      "|timestamp|inputData|    sumWallclockHr|         sumCoreHr|         avgCpuEff|\n",
      "+---------+---------+------------------+------------------+------------------+\n",
      "|       00|   Onsite|215188.11749999985| 377737.8124999998|0.5696758714088226|\n",
      "|       00|  Offsite|12040.660000000003|15678.095833333335|0.7679924990890955|\n",
      "|       01|   Onsite|253714.67361111107| 421213.1602777775|0.6023427032616783|\n",
      "|       01|  Offsite|18165.788055555557|17987.823888888877|1.0098935906736672|\n",
      "|       02|  Offsite|13906.716944444446|17003.585833333334|0.8178696588329106|\n",
      "|       02|   Onsite|220685.21472222218|376399.76694444485|0.5863053968224015|\n",
      "|       03|   Onsite|213668.96055555556| 376594.6827777778|0.5673711561180964|\n",
      "|       03|  Offsite| 10736.61916666667| 14042.77055555555|0.7645655908277365|\n",
      "|       04|  Offsite| 9406.169444444451|12472.360833333336|0.7541611063164357|\n",
      "|       04|   Onsite|264012.89972222236|447657.89555555535|0.5897648680910125|\n",
      "|       05|   Onsite| 327701.8691666666| 496435.2383333332|0.6601100080382085|\n",
      "|       05|  Offsite|10587.841944444448|16818.524444444443|0.6295345337469164|\n",
      "|       06|   Onsite|238026.44944444436| 395591.3055555554|0.6016978788504157|\n",
      "|       06|  Offsite|7935.9788888888925|10366.371388888889|0.7655503156480586|\n",
      "|       07|  Offsite|10861.010277777774|11776.007222222217|0.9222998995179135|\n",
      "|       07|   Onsite| 264523.7694444445|424892.90916666656|0.6225657424202474|\n",
      "|       08|  Offsite|13863.847500000002|12643.568055555545| 1.096513851080848|\n",
      "|       08|   Onsite| 247486.8027777778|415001.37694444443|0.5963517629747731|\n",
      "|       09|   Onsite| 289720.8750000001| 461801.6969444444|0.6273707457485893|\n",
      "|       09|  Offsite|14933.836666666668|11382.516388888886|1.3119978180962186|\n",
      "+---------+---------+------------------+------------------+------------------+\n",
      "only showing top 20 rows\n",
      "\n"
     ]
    }
   ],
   "source": [
    "df4.show()"
   ]
  },
  {
   "cell_type": "code",
   "execution_count": 22,
   "id": "bb18f191",
   "metadata": {},
   "outputs": [],
   "source": [
    "df4Onsite = df4.filter(col('inputData')=='Onsite').toPandas()\n",
    "df4Offsite = df4.filter(col('inputData')=='Offsite').toPandas()"
   ]
  },
  {
   "cell_type": "code",
   "execution_count": 23,
   "id": "c0c8a66f",
   "metadata": {},
   "outputs": [
    {
     "data": {
      "text/html": [
       "<div>\n",
       "<style scoped>\n",
       "    .dataframe tbody tr th:only-of-type {\n",
       "        vertical-align: middle;\n",
       "    }\n",
       "\n",
       "    .dataframe tbody tr th {\n",
       "        vertical-align: top;\n",
       "    }\n",
       "\n",
       "    .dataframe thead th {\n",
       "        text-align: right;\n",
       "    }\n",
       "</style>\n",
       "<table border=\"1\" class=\"dataframe\">\n",
       "  <thead>\n",
       "    <tr style=\"text-align: right;\">\n",
       "      <th></th>\n",
       "      <th>timestamp</th>\n",
       "      <th>inputData</th>\n",
       "      <th>sumWallclockHr</th>\n",
       "      <th>sumCoreHr</th>\n",
       "      <th>avgCpuEff</th>\n",
       "    </tr>\n",
       "  </thead>\n",
       "  <tbody>\n",
       "    <tr>\n",
       "      <th>0</th>\n",
       "      <td>00</td>\n",
       "      <td>Offsite</td>\n",
       "      <td>12040.660000</td>\n",
       "      <td>15678.095833</td>\n",
       "      <td>0.767992</td>\n",
       "    </tr>\n",
       "    <tr>\n",
       "      <th>1</th>\n",
       "      <td>01</td>\n",
       "      <td>Offsite</td>\n",
       "      <td>18165.788056</td>\n",
       "      <td>17987.823889</td>\n",
       "      <td>1.009894</td>\n",
       "    </tr>\n",
       "    <tr>\n",
       "      <th>2</th>\n",
       "      <td>02</td>\n",
       "      <td>Offsite</td>\n",
       "      <td>13906.716944</td>\n",
       "      <td>17003.585833</td>\n",
       "      <td>0.817870</td>\n",
       "    </tr>\n",
       "    <tr>\n",
       "      <th>3</th>\n",
       "      <td>03</td>\n",
       "      <td>Offsite</td>\n",
       "      <td>10736.619167</td>\n",
       "      <td>14042.770556</td>\n",
       "      <td>0.764566</td>\n",
       "    </tr>\n",
       "    <tr>\n",
       "      <th>4</th>\n",
       "      <td>04</td>\n",
       "      <td>Offsite</td>\n",
       "      <td>9406.169444</td>\n",
       "      <td>12472.360833</td>\n",
       "      <td>0.754161</td>\n",
       "    </tr>\n",
       "    <tr>\n",
       "      <th>5</th>\n",
       "      <td>05</td>\n",
       "      <td>Offsite</td>\n",
       "      <td>10587.841944</td>\n",
       "      <td>16818.524444</td>\n",
       "      <td>0.629535</td>\n",
       "    </tr>\n",
       "    <tr>\n",
       "      <th>6</th>\n",
       "      <td>06</td>\n",
       "      <td>Offsite</td>\n",
       "      <td>7935.978889</td>\n",
       "      <td>10366.371389</td>\n",
       "      <td>0.765550</td>\n",
       "    </tr>\n",
       "    <tr>\n",
       "      <th>7</th>\n",
       "      <td>07</td>\n",
       "      <td>Offsite</td>\n",
       "      <td>10861.010278</td>\n",
       "      <td>11775.517222</td>\n",
       "      <td>0.922338</td>\n",
       "    </tr>\n",
       "    <tr>\n",
       "      <th>8</th>\n",
       "      <td>08</td>\n",
       "      <td>Offsite</td>\n",
       "      <td>13863.847500</td>\n",
       "      <td>12643.568056</td>\n",
       "      <td>1.096514</td>\n",
       "    </tr>\n",
       "    <tr>\n",
       "      <th>9</th>\n",
       "      <td>09</td>\n",
       "      <td>Offsite</td>\n",
       "      <td>14933.836667</td>\n",
       "      <td>11382.516389</td>\n",
       "      <td>1.311998</td>\n",
       "    </tr>\n",
       "    <tr>\n",
       "      <th>10</th>\n",
       "      <td>10</td>\n",
       "      <td>Offsite</td>\n",
       "      <td>16224.190278</td>\n",
       "      <td>14575.660000</td>\n",
       "      <td>1.113102</td>\n",
       "    </tr>\n",
       "    <tr>\n",
       "      <th>11</th>\n",
       "      <td>11</td>\n",
       "      <td>Offsite</td>\n",
       "      <td>11512.036944</td>\n",
       "      <td>10465.465833</td>\n",
       "      <td>1.100002</td>\n",
       "    </tr>\n",
       "    <tr>\n",
       "      <th>12</th>\n",
       "      <td>12</td>\n",
       "      <td>Offsite</td>\n",
       "      <td>9224.625278</td>\n",
       "      <td>12605.403889</td>\n",
       "      <td>0.731799</td>\n",
       "    </tr>\n",
       "    <tr>\n",
       "      <th>13</th>\n",
       "      <td>13</td>\n",
       "      <td>Offsite</td>\n",
       "      <td>12423.768611</td>\n",
       "      <td>15223.357778</td>\n",
       "      <td>0.816099</td>\n",
       "    </tr>\n",
       "    <tr>\n",
       "      <th>14</th>\n",
       "      <td>14</td>\n",
       "      <td>Offsite</td>\n",
       "      <td>7943.407222</td>\n",
       "      <td>9836.710556</td>\n",
       "      <td>0.807527</td>\n",
       "    </tr>\n",
       "    <tr>\n",
       "      <th>15</th>\n",
       "      <td>15</td>\n",
       "      <td>Offsite</td>\n",
       "      <td>9306.120556</td>\n",
       "      <td>8900.208056</td>\n",
       "      <td>1.045607</td>\n",
       "    </tr>\n",
       "    <tr>\n",
       "      <th>16</th>\n",
       "      <td>16</td>\n",
       "      <td>Offsite</td>\n",
       "      <td>5002.314167</td>\n",
       "      <td>9979.764444</td>\n",
       "      <td>0.501246</td>\n",
       "    </tr>\n",
       "    <tr>\n",
       "      <th>17</th>\n",
       "      <td>17</td>\n",
       "      <td>Offsite</td>\n",
       "      <td>5685.554167</td>\n",
       "      <td>9527.749722</td>\n",
       "      <td>0.596736</td>\n",
       "    </tr>\n",
       "    <tr>\n",
       "      <th>18</th>\n",
       "      <td>18</td>\n",
       "      <td>Offsite</td>\n",
       "      <td>6599.733056</td>\n",
       "      <td>9590.020278</td>\n",
       "      <td>0.688188</td>\n",
       "    </tr>\n",
       "    <tr>\n",
       "      <th>19</th>\n",
       "      <td>19</td>\n",
       "      <td>Offsite</td>\n",
       "      <td>5431.492222</td>\n",
       "      <td>9288.436389</td>\n",
       "      <td>0.584759</td>\n",
       "    </tr>\n",
       "    <tr>\n",
       "      <th>20</th>\n",
       "      <td>20</td>\n",
       "      <td>Offsite</td>\n",
       "      <td>6153.542222</td>\n",
       "      <td>11315.185556</td>\n",
       "      <td>0.543830</td>\n",
       "    </tr>\n",
       "    <tr>\n",
       "      <th>21</th>\n",
       "      <td>21</td>\n",
       "      <td>Offsite</td>\n",
       "      <td>10413.761111</td>\n",
       "      <td>12603.990833</td>\n",
       "      <td>0.826227</td>\n",
       "    </tr>\n",
       "    <tr>\n",
       "      <th>22</th>\n",
       "      <td>22</td>\n",
       "      <td>Offsite</td>\n",
       "      <td>11329.019444</td>\n",
       "      <td>12719.852222</td>\n",
       "      <td>0.890657</td>\n",
       "    </tr>\n",
       "    <tr>\n",
       "      <th>23</th>\n",
       "      <td>23</td>\n",
       "      <td>Offsite</td>\n",
       "      <td>13597.961667</td>\n",
       "      <td>13601.212778</td>\n",
       "      <td>0.999761</td>\n",
       "    </tr>\n",
       "  </tbody>\n",
       "</table>\n",
       "</div>"
      ],
      "text/plain": [
       "   timestamp inputData  sumWallclockHr     sumCoreHr  avgCpuEff\n",
       "0         00   Offsite    12040.660000  15678.095833   0.767992\n",
       "1         01   Offsite    18165.788056  17987.823889   1.009894\n",
       "2         02   Offsite    13906.716944  17003.585833   0.817870\n",
       "3         03   Offsite    10736.619167  14042.770556   0.764566\n",
       "4         04   Offsite     9406.169444  12472.360833   0.754161\n",
       "5         05   Offsite    10587.841944  16818.524444   0.629535\n",
       "6         06   Offsite     7935.978889  10366.371389   0.765550\n",
       "7         07   Offsite    10861.010278  11775.517222   0.922338\n",
       "8         08   Offsite    13863.847500  12643.568056   1.096514\n",
       "9         09   Offsite    14933.836667  11382.516389   1.311998\n",
       "10        10   Offsite    16224.190278  14575.660000   1.113102\n",
       "11        11   Offsite    11512.036944  10465.465833   1.100002\n",
       "12        12   Offsite     9224.625278  12605.403889   0.731799\n",
       "13        13   Offsite    12423.768611  15223.357778   0.816099\n",
       "14        14   Offsite     7943.407222   9836.710556   0.807527\n",
       "15        15   Offsite     9306.120556   8900.208056   1.045607\n",
       "16        16   Offsite     5002.314167   9979.764444   0.501246\n",
       "17        17   Offsite     5685.554167   9527.749722   0.596736\n",
       "18        18   Offsite     6599.733056   9590.020278   0.688188\n",
       "19        19   Offsite     5431.492222   9288.436389   0.584759\n",
       "20        20   Offsite     6153.542222  11315.185556   0.543830\n",
       "21        21   Offsite    10413.761111  12603.990833   0.826227\n",
       "22        22   Offsite    11329.019444  12719.852222   0.890657\n",
       "23        23   Offsite    13597.961667  13601.212778   0.999761"
      ]
     },
     "execution_count": 23,
     "metadata": {},
     "output_type": "execute_result"
    }
   ],
   "source": [
    "df4Offsite"
   ]
  },
  {
   "cell_type": "code",
   "execution_count": 24,
   "id": "6604d031",
   "metadata": {},
   "outputs": [],
   "source": [
    "df4OnsiteAvg = df4Onsite.avgCpuEff.values.tolist()\n",
    "df4OffsiteAvg = df4Offsite.avgCpuEff.values.tolist()"
   ]
  },
  {
   "cell_type": "code",
   "execution_count": 25,
   "id": "ff6ab4d5",
   "metadata": {},
   "outputs": [],
   "source": [
    "from statistics import mean\n",
    "meanOffsite=mean(df4OffsiteAvg)\n",
    "meanOnsite=mean(df4OnsiteAvg)\n",
    "meanOffsiteList = []\n",
    "meanOnsiteList = []\n",
    "for i in range(24):\n",
    "    meanOffsiteList.append(meanOffsite)\n",
    "    meanOnsiteList.append(meanOnsite)"
   ]
  },
  {
   "cell_type": "code",
   "execution_count": 27,
   "id": "eec340a3",
   "metadata": {},
   "outputs": [
    {
     "data": {
      "text/plain": [
       "0.6014924517487457"
      ]
     },
     "execution_count": 27,
     "metadata": {},
     "output_type": "execute_result"
    }
   ],
   "source": [
    "meanOnsite"
   ]
  },
  {
   "cell_type": "code",
   "execution_count": 53,
   "id": "d75f8f5f",
   "metadata": {},
   "outputs": [
    {
     "data": {
      "image/png": "[encoded data removed]",
      "text/plain": [
       "<Figure size 720x720 with 1 Axes>"
      ]
     },
     "metadata": {
      "needs_background": "light"
     },
     "output_type": "display_data"
    }
   ],
   "source": [
    "# Data for plotting\n",
    "import matplotlib.pyplot as plt\n",
    "from matplotlib import cm\n",
    "hour = np.arange(0, 24, 1)\n",
    "\n",
    "\n",
    "fig, ax = plt.subplots()\n",
    "ax.plot(hour, df4OnsiteAvg, label='Onsite')\n",
    "ax.plot(hour, df4OffsiteAvg, label='Offsite')\n",
    "\n",
    "ax.plot(hour, meanOnsiteList, color=\"blue\", linestyle=\"--\")\n",
    "ax.plot(hour, meanOffsiteList, color=\"orange\", linestyle=\"--\")\n",
    "\n",
    "ax.text(15,meanOnsite,'%f' % (meanOnsite))\n",
    "ax.text(15,meanOffsite,'%f' % (meanOffsite))\n",
    "\n",
    "\n",
    "\n",
    "ax.set(xlabel='time of the day (hr)', ylabel='avg cpu efficiency',\n",
    "       title='AVG CPU Efficiency May 1st')\n",
    "ax.grid()\n",
    "plt.legend()\n",
    "\n",
    "# plt.savefig('final-avg-cpueff-onsite-offsite.png')\n",
    "plt.show()"
   ]
  },
  {
   "cell_type": "markdown",
   "id": "fd90e0de",
   "metadata": {},
   "source": [
    "# TASK 5"
   ]
  },
  {
   "cell_type": "code",
   "execution_count": 41,
   "id": "d25c2599",
   "metadata": {},
   "outputs": [],
   "source": [
    "#check conversion of exitCode -> 1 vs 0 -> ignore null\n",
    "# 0 == success, else == fail\n",
    "exitCodeZero = raw_df.filter((col(\"Chirp_CRAB3_Job_ExitCode\")==0)&(col(\"Type\")==\"analysis\")).count()"
   ]
  },
  {
   "cell_type": "code",
   "execution_count": 42,
   "id": "5eb28bba",
   "metadata": {},
   "outputs": [
    {
     "data": {
      "text/plain": [
       "166782"
      ]
     },
     "execution_count": 42,
     "metadata": {},
     "output_type": "execute_result"
    }
   ],
   "source": [
    "exitCodeZero"
   ]
  },
  {
   "cell_type": "code",
   "execution_count": 33,
   "id": "5a2a23ed",
   "metadata": {},
   "outputs": [
    {
     "data": {
      "text/plain": [
       "155311"
      ]
     },
     "execution_count": 33,
     "metadata": {},
     "output_type": "execute_result"
    }
   ],
   "source": [
    "exitCodeOne = raw_df.filter((col(\"Chirp_CRAB3_Job_ExitCode\")!=0) & (col(\"Chirp_CRAB3_Job_ExitCode\").isNotNull())).count()\n",
    "exitCodeOne"
   ]
  },
  {
   "cell_type": "code",
   "execution_count": 34,
   "id": "e9046f40",
   "metadata": {},
   "outputs": [],
   "source": [
    "newExitCode = raw_df.withColumn('exitCode', when((col(\"Chirp_CRAB3_Job_ExitCode\")!=0) & (col(\"Chirp_CRAB3_Job_ExitCode\").isNotNull()), 1).otherwise(col(\"Chirp_CRAB3_Job_ExitCode\")))\\\n",
    "            .select('exitCode')\n",
    "newZero = newExitCode.filter(col('exitCode')==0).count()\n",
    "newOne = newExitCode.filter(col('exitCode')==1).count()"
   ]
  },
  {
   "cell_type": "code",
   "execution_count": 35,
   "id": "197a03b0",
   "metadata": {},
   "outputs": [
    {
     "name": "stdout",
     "output_type": "stream",
     "text": [
      "191557\n",
      "155311\n"
     ]
    }
   ],
   "source": [
    "print(newZero)\n",
    "print(newOne)"
   ]
  },
  {
   "cell_type": "code",
   "execution_count": 59,
   "id": "bdd41caf",
   "metadata": {},
   "outputs": [],
   "source": [
    "#analysis success rate\n",
    "from pyspark.sql.functions import count as _count\n",
    "df5 = raw_df.withColumn('exitCode', when((col(\"Chirp_CRAB3_Job_ExitCode\")!=0) & (col(\"Chirp_CRAB3_Job_ExitCode\").isNotNull()), 1).otherwise(col(\"Chirp_CRAB3_Job_ExitCode\")))\\\n",
    "                    .select('exitCode', col('Type'))\\\n",
    "                    .filter(col(\"Type\")==\"analysis\")\\\n",
    "                    .groupby('exitCode').agg(_count(when(col('exitCode')==1, True)).alias('countFail'), _count(when(col('exitCode')==0, True)).alias('countSuccess'))\n",
    "\n",
    "\n"
   ]
  },
  {
   "cell_type": "code",
   "execution_count": 60,
   "id": "bdcfcc8c",
   "metadata": {},
   "outputs": [
    {
     "name": "stdout",
     "output_type": "stream",
     "text": [
      "+--------+---------+------------+\n",
      "|exitCode|countFail|countSuccess|\n",
      "+--------+---------+------------+\n",
      "|       0|        0|      166782|\n",
      "|    null|        0|           0|\n",
      "|       1|   154587|           0|\n",
      "+--------+---------+------------+\n",
      "\n"
     ]
    }
   ],
   "source": [
    "df5.show()"
   ]
  },
  {
   "cell_type": "code",
   "execution_count": 61,
   "id": "ff34b684",
   "metadata": {},
   "outputs": [],
   "source": [
    "countFail = df5.collect()[2][1]\n",
    "countSuccess = df5.collect()[0][2]"
   ]
  },
  {
   "cell_type": "code",
   "execution_count": 68,
   "id": "fbb650a8",
   "metadata": {},
   "outputs": [
    {
     "data": {
      "image/png": "[encoded data removed]",
      "text/plain": [
       "<Figure size 720x720 with 1 Axes>"
      ]
     },
     "metadata": {},
     "output_type": "display_data"
    }
   ],
   "source": [
    "plt.rcParams[\"figure.figsize\"] = (10,10)\n",
    "fig2, ax2 = plt.subplots()\n",
    "figure_title = 'Analysis Success Rate'\n",
    "plt.title(figure_title, y=1, fontsize=15)\n",
    "ax2.pie([countSuccess, countFail], labels=[\"Success\", \"Fail\"], autopct='%1.1f%%',\n",
    "        shadow=False, startangle=90)\n",
    "ax2.axis('equal') \n",
    "\n",
    "\n",
    "plt.savefig('final-analysis-success-rate.png')\n",
    "plt.show()"
   ]
  },
  {
   "cell_type": "code",
   "execution_count": null,
   "id": "ba6b5dc0",
   "metadata": {},
   "outputs": [],
   "source": []
  }
 ],
 "metadata": {
  "kernelspec": {
   "display_name": "Python 3",
   "language": "python",
   "name": "python3"
  },
  "language_info": {
   "codemirror_mode": {
    "name": "ipython",
    "version": 3
   },
   "file_extension": ".py",
   "mimetype": "text/x-python",
   "name": "python",
   "nbconvert_exporter": "python",
   "pygments_lexer": "ipython3",
   "version": "3.9.6"
  },
  "sparkconnect": {
   "bundled_options": [],
   "list_of_options": []
  }
 },
 "nbformat": 4,
 "nbformat_minor": 5
}
